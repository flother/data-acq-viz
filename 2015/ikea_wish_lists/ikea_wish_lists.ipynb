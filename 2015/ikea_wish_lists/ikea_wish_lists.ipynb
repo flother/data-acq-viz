{
 "cells": [
  {
   "cell_type": "markdown",
   "metadata": {},
   "source": [
    "## IKEA óskalistar\n",
    "\n",
    "Við ætlum að safna gögnum um óskalista á http://www.ikea.is/wish_lists/\n",
    "\n",
    "Kóðinn keyrir á Python 2.7. Þú getur líka keyrt hann beint í vafranum þínum."
   ]
  },
  {
   "cell_type": "code",
   "execution_count": null,
   "metadata": {
    "collapsed": true
   },
   "outputs": [],
   "source": [
    "# -*- coding: utf-8 -*-\n",
    "import requests\n",
    "import scraperwiki\n",
    "import lxml.html\n",
    "import json"
   ]
  }
 ],
 "metadata": {
  "kernelspec": {
   "display_name": "Python 2",
   "language": "python",
   "name": "python2"
  },
  "language_info": {
   "codemirror_mode": {
    "name": "ipython",
    "version": 2
   },
   "file_extension": ".py",
   "mimetype": "text/x-python",
   "name": "python",
   "nbconvert_exporter": "python",
   "pygments_lexer": "ipython2",
   "version": "2.7.10"
  }
 },
 "nbformat": 4,
 "nbformat_minor": 0
}
