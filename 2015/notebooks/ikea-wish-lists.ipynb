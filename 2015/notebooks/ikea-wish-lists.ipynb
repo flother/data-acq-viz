{
 "cells": [
  {
   "cell_type": "markdown",
   "metadata": {},
   "source": [
    "# IKEA-óskalistar\n",
    "\n",
    "Við ætlum að safna gögnum um óskalista á http://www.ikea.is/wish_lists/\n",
    "\n",
    "Kóðinn keyrir á Python 2.7. \n",
    "\n",
    "Ef þú vilt keyra kóðann á vélinni þinni þarftu að hafa iPython uppsett: http://ipython.org/install.html\n"
   ]
  },
  {
   "cell_type": "markdown",
   "metadata": {},
   "source": [
    "## Byrjum ballið!\n",
    "\n",
    "Flytjum inn þá pakka sem við þurfum.\n",
    "\n",
    "requests: http://docs.python-requests.org/en/latest/\n",
    "\n",
    "scraperwiki: https://pypi.python.org/pypi/scraperwiki/0.5\n",
    "\n",
    "lxml: http://lxml.de/\n",
    "\n",
    "json: https://docs.python.org/2/library/json.html\n",
    "\n",
    "Athugaðu að þú þarft að setja upp pakkana hjá þér. Einfaldast er að hafa sérstakt Python-sýndarumhverfi (e. _virtualenv_) og setja pakkana upp þar.  \n",
    "\n",
    "Hér eru ágætar leiðbeiningar um það: http://pythoncentral.io/how-to-install-virtualenv-python/\n"
   ]
  },
  {
   "cell_type": "code",
   "execution_count": 1,
   "metadata": {
    "collapsed": true
   },
   "outputs": [],
   "source": [
    "# -*- coding: utf-8 -*-\n",
    "import requests\n",
    "import scraperwiki\n",
    "import lxml.html\n",
    "import json"
   ]
  },
  {
   "cell_type": "markdown",
   "metadata": {},
   "source": [
    "Skilgreinum nokkrar breytur"
   ]
  },
  {
   "cell_type": "code",
   "execution_count": 2,
   "metadata": {
    "collapsed": true
   },
   "outputs": [],
   "source": [
    "BASE_URL = 'http://www.ikea.is/wish_lists/%s'\n",
    "\n",
    "LAST = 12000\n",
    "\n",
    "s = requests.Session()"
   ]
  },
  {
   "cell_type": "markdown",
   "metadata": {},
   "source": [
    "`BASE_URL` er slóðin með óskalistunum. Í lok slóðarinnar er einkvæmt númer hvers lista.\n",
    "\n",
    "`LAST` er síðasta númer óskalista sem við ætlum að biðja um.  \n",
    "\n",
    "Dæmi: https://www.ikea.is/wish_lists/10000\n",
    "\n",
    "Við notum `requests.Session()` til að endurnýta HTTP-tenginguna á milli fyrirspurna. Það flýtir fyrir."
   ]
  },
  {
   "cell_type": "code",
   "execution_count": 8,
   "metadata": {
    "collapsed": true
   },
   "outputs": [],
   "source": [
    "def scrape(id):\n",
    "    response = s.get(BASE_URL % id)\n",
    "    html = response.text\n",
    "    root = lxml.html.fromstring(html)\n",
    "    user_dict = {}\n",
    "    user_products = []\n",
    "    product_list_batch = []\n",
    "    user_dict['id'] = id\n",
    "    user_dict['name'] = root.xpath('//div[@class=\"sidebar_outer head first\"]/h1')[0].text\n",
    "    products = root.xpath('//div[@class=\"product_container\"]')\n",
    "    for product in products:\n",
    "        product_dict = {}\n",
    "        id = product.xpath('a')[1].attrib['href'].strip().replace('/products/', '')\n",
    "        user_products.append(id)\n",
    "        product_dict['id'] = id\n",
    "        product_dict['title'] = product.xpath('a/div[@class=\"product_name\"]')[0].text\n",
    "        product_dict['price'] = product.xpath('div[@class=\"product_price\"]')[0].text.replace('.', '').replace('kr', '').strip()\n",
    "        product_list_batch.append(product_dict)\n",
    "    user_dict['products'] = json.dumps(user_products)\n",
    "    user = [user_dict]\n",
    "    scraperwiki.sqlite.save(unique_keys=['id'], data=product_list_batch, table_name='products')\n",
    "    scraperwiki.sqlite.save(unique_keys=['id'], data=user, table_name='users')\n",
    "    "
   ]
  },
  {
   "cell_type": "markdown",
   "metadata": {},
   "source": [
    "Skilgreinum fallið `scrape` sem mun sækja hvern óskalista. Það tekur óskalistanúmer sem færibreytu (e. _parameter_).\n",
    "\n",
    "Skoðum þetta aðeins nánar:\n"
   ]
  },
  {
   "cell_type": "markdown",
   "metadata": {},
   "source": [
    "    response = s.get(BASE_URL % id)\n",
    "    html = response.text\n",
    "    root = lxml.html.fromstring(html)"
   ]
  },
  {
   "cell_type": "markdown",
   "metadata": {},
   "source": [
    "Sækjum HTML-kóða óskalistans og þáttum yfir í XML með `lxml`"
   ]
  },
  {
   "cell_type": "markdown",
   "metadata": {
    "collapsed": true
   },
   "source": [
    "    user_dict = {}\n",
    "    user_products = []\n",
    "    product_list_batch = []\n",
    "    user_dict['id'] = id"
   ]
  },
  {
   "cell_type": "markdown",
   "metadata": {},
   "source": [
    "Búum til hluti til að geyma gögnin sem við erum að fara að skrapa. "
   ]
  },
  {
   "cell_type": "markdown",
   "metadata": {
    "collapsed": true
   },
   "source": [
    "    user_dict['name'] = root.xpath('//div[@class=\"sidebar_outer head first\"]/h1')[0].text"
   ]
  },
  {
   "cell_type": "markdown",
   "metadata": {},
   "source": [
    "Finnum nafn þess sem bjó óskalistann til. Til þess notum við XPath-segð (`//div[@class=\"sidebar_outer head first\"]/h1`)\n",
    "\n",
    "Hér er ágætt yfirlit yfir XPath: http://www.w3schools.com/xsl/xpath_intro.asp\n",
    "\n",
    "Á mannamáli er þetta svona:\n",
    "\n",
    "Byrjaðu efst í XML-skjalinu og finndu allt sem uppfyllir skilyrðin\n",
    "Finndu `div`-einingu sem er með CSS-klasann `sidebar_outer head first`\n",
    "Inni í henni skaltu finna tagið `h1`\n",
    "Skilaðu okkur textanum í fyrsta slíka hlutnum sem þú finnur í listanum\n"
   ]
  },
  {
   "cell_type": "markdown",
   "metadata": {},
   "source": [
    "    products = root.xpath('//div[@class=\"product_container\"]')"
   ]
  },
  {
   "cell_type": "markdown",
   "metadata": {},
   "source": [
    "Hér finnum við lista yfir allar vörurnar. Þær eru í `div`-einingum með CSS-klasann `product_container`"
   ]
  },
  {
   "cell_type": "markdown",
   "metadata": {},
   "source": [
    "    for product in products:\n",
    "        product_dict = {}\n",
    "        id = product.xpath('a')[1].attrib['href'].strip().replace('/products/', '')\n",
    "        user_products.append(id)\n",
    "        product_dict['id'] = id\n",
    "        product_dict['title'] = product.xpath('a/div[@class=\"product_name\"]')[0].text\n",
    "        product_dict['price'] = product.xpath('div[@class=\"product_price\"]')[0].text.replace('.', '').replace('kr', '').strip()\n",
    "        product_list_batch.append(product_dict)"
   ]
  },
  {
   "cell_type": "markdown",
   "metadata": {},
   "source": [
    "Ítrum yfir vörulistann og geymum upplýsingar um hverja vöru"
   ]
  },
  {
   "cell_type": "markdown",
   "metadata": {},
   "source": [
    "    user_dict['products'] = json.dumps(user_products)\n",
    "    user = [user_dict]\n",
    "    scraperwiki.sqlite.save(unique_keys=['id'], data=product_list_batch, table_name='products')\n",
    "    scraperwiki.sqlite.save(unique_keys=['id'], data=user, table_name='users')"
   ]
  },
  {
   "cell_type": "markdown",
   "metadata": {},
   "source": [
    "Vistum í tvær töflur í gagnagrunninum. \n",
    "\n",
    "`products` geymir upplýsingar um vörurnar.\n",
    "`users` geymir upplýsingar um notendur.\n",
    "\n",
    "Svona líta færslur í töflunni `users` út:\n",
    "\n",
    "    `SELECT * FROM users LIMIT 2`\n",
    "\n",
    "    \"products\", \"id\", \"name\"\n",
    "    \"[\"\"12067\"\"]\",2,\"Matti\"\n",
    "    \"[\"\"1481\"\", \"\"11981\"\"]\",3,\"Steinunn Vigdís Steindórsdóttir\"\n",
    "    \n",
    "Og svona í `products`:\n",
    "\n",
    "    `SELECT * FROM products LIMIT 3`\n",
    "    \n",
    "    \"price\", \"id\", \"title\"\n",
    "    785,38793,\"STICKAT vasi á rúm 39x30 grænt\"\n",
    "    485,38809,\"IKEA 365+ djúpur diskur/skál 17 cm hallandi hliðar hvítt\"\n",
    "    2750,39467,\" ÖNSKEDRÖM mynd 52x52 \"\n"
   ]
  },
  {
   "cell_type": "code",
   "execution_count": null,
   "metadata": {
    "collapsed": false
   },
   "outputs": [],
   "source": [
    "try:\n",
    "    last_done = scraperwiki.sqlite.select(\"id from users order by id DESC\")\n",
    "    last_done = last_done[0]['id']\n",
    "except:\n",
    "    last_done = 1\n",
    "\n",
    "print \"Last done: %s\" % last_done\n",
    "\n",
    "for i in range(last_done, LAST+1):\n",
    "    try:\n",
    "        scrape(i)\n",
    "        print 'Done', i\n",
    "    except:\n",
    "        print 'FAIL for', i\n",
    "        continue"
   ]
  },
  {
   "cell_type": "markdown",
   "metadata": {},
   "source": [
    "Og svo keyrum við af stað.\n",
    "\n",
    "Byrjum á að athuga hvort við höfum einhverja notendur í gagnagrunninum og sækjum þá `id` númer notandans (sem er hlaupandi tala). Ef ekki byrjum við á númer 1.\n",
    "\n",
    "Svo sækjum við alla óskalistana frá seinasta notaða númeri og upp að `LAST` númerinu. Veitum smá upplýsingar um hvað er að gerast, en aðallega keyrum við bara áfram."
   ]
  },
  {
   "cell_type": "code",
   "execution_count": null,
   "metadata": {
    "collapsed": true
   },
   "outputs": [],
   "source": []
  },
  {
   "cell_type": "code",
   "execution_count": null,
   "metadata": {
    "collapsed": true
   },
   "outputs": [],
   "source": []
  }
 ],
 "metadata": {
  "kernelspec": {
   "display_name": "Python 2",
   "language": "python",
   "name": "python2"
  },
  "language_info": {
   "codemirror_mode": {
    "name": "ipython",
    "version": 2
   },
   "file_extension": ".py",
   "mimetype": "text/x-python",
   "name": "python",
   "nbconvert_exporter": "python",
   "pygments_lexer": "ipython2",
   "version": "2.7.10"
  }
 },
 "nbformat": 4,
 "nbformat_minor": 0
}
